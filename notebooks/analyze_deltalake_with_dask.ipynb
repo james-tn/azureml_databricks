{
 "cells": [
  {
   "cell_type": "code",
   "execution_count": null,
   "metadata": {},
   "outputs": [],
   "source": [
    "#Install neccessary libraries, especially DDLFS\n",
    "pip install --upgrade  xgboost lightgbm pandas dask[complete] dask-ml[complete] distributed pyarrow joblib adlfs dask_lightgbm"
   ]
  },
  {
   "cell_type": "code",
   "execution_count": null,
   "metadata": {},
   "outputs": [],
   "source": [
    "# Authenicating to Azure ML\n",
    "ws = Workspace.from_config()\n",
    "ws"
   ]
  },
  {
   "cell_type": "code",
   "execution_count": null,
   "metadata": {},
   "outputs": [],
   "source": [
    "from azureml.core import Workspace, Experiment, Datastore, Dataset, Environment"
   ]
  },
  {
   "cell_type": "code",
   "execution_count": 9,
   "metadata": {},
   "outputs": [],
   "source": [
    "keyvault=ws.get_default_keyvault()"
   ]
  },
  {
   "cell_type": "code",
   "execution_count": 2,
   "metadata": {},
   "outputs": [],
   "source": [
    "import dask\n",
    "import glob\n",
    "import joblib\n",
    "import fsspec\n",
    "\n",
    "import pandas as pd\n",
    "import dask.dataframe as dd\n",
    "import matplotlib.pyplot as plt\n",
    "\n",
    "from datetime import datetime\n",
    "from dask.distributed import Client\n",
    "from dask_lightgbm import LGBMRegressor\n",
    "from dask_ml.xgboost import XGBRegressor\n",
    "from azureml.core import Workspace, Dataset, Model"
   ]
  },
  {
   "cell_type": "code",
   "execution_count": 18,
   "metadata": {},
   "outputs": [
    {
     "data": {
      "text/html": [
       "<table style=\"border: 2px solid white;\">\n",
       "<tr>\n",
       "<td style=\"vertical-align: top; border: 0px solid white\">\n",
       "<h3 style=\"text-align: left;\">Client</h3>\n",
       "<ul style=\"text-align: left; list-style: none; margin: 0; padding: 0;\">\n",
       "  <li><b>Scheduler: </b>tcp://10.0.0.5:8786</li>\n",
       "  <li><b>Dashboard: </b><a href='http://10.0.0.5:8787/status' target='_blank'>http://10.0.0.5:8787/status</a></li>\n",
       "</ul>\n",
       "</td>\n",
       "<td style=\"vertical-align: top; border: 0px solid white\">\n",
       "<h3 style=\"text-align: left;\">Cluster</h3>\n",
       "<ul style=\"text-align: left; list-style:none; margin: 0; padding: 0;\">\n",
       "  <li><b>Workers: </b>5</li>\n",
       "  <li><b>Cores: </b>40</li>\n",
       "  <li><b>Memory: </b>295.49 GB</li>\n",
       "</ul>\n",
       "</td>\n",
       "</tr>\n",
       "</table>"
      ],
      "text/plain": [
       "<Client: 'tcp://10.0.0.5:8786' processes=5 threads=40, memory=295.49 GB>"
      ]
     },
     "execution_count": 18,
     "metadata": {},
     "output_type": "execute_result"
    }
   ],
   "source": [
    "c = Client('10.0.0.5:8786')\n",
    "# c = Client()\n",
    "#you can also use the standalone version of dask with Client()\n",
    "\n",
    "c"
   ]
  },
  {
   "cell_type": "code",
   "execution_count": 19,
   "metadata": {},
   "outputs": [],
   "source": [
    "STORAGE_OPTIONS={'account_name': 'adlsdatalakegen6', 'account_key': keyvault.get_secret(\"adlsdatalakegen6\")}\n"
   ]
  },
  {
   "cell_type": "code",
   "execution_count": 20,
   "metadata": {},
   "outputs": [],
   "source": [
    "#file list\n",
    "file_list = dd.read_csv(\"abfs://mltraining/ISDWeatherDelta/_symlink_format_manifest/year=*/month=*/manifest\",storage_options=STORAGE_OPTIONS,engine='python', header =None )"
   ]
  },
  {
   "cell_type": "code",
   "execution_count": 21,
   "metadata": {},
   "outputs": [],
   "source": [
    "file_list_pd = file_list.compute()\n",
    "parquet_file_list = [file[0].replace(\"abfss\", \"abfs\").replace(\"@adlsdatalakegen6.dfs.core.windows.net\", \"\") for file in file_list_pd.values]"
   ]
  },
  {
   "cell_type": "code",
   "execution_count": 22,
   "metadata": {},
   "outputs": [
    {
     "data": {
      "text/plain": [
       "37"
      ]
     },
     "execution_count": 22,
     "metadata": {},
     "output_type": "execute_result"
    }
   ],
   "source": [
    "len(parquet_file_list)"
   ]
  },
  {
   "cell_type": "code",
   "execution_count": 24,
   "metadata": {},
   "outputs": [
    {
     "name": "stdout",
     "output_type": "stream",
     "text": [
      "CPU times: user 250 ms, sys: 35.6 ms, total: 286 ms\n",
      "Wall time: 5.07 s\n"
     ]
    },
    {
     "data": {
      "text/html": [
       "<div>\n",
       "<style scoped>\n",
       "    .dataframe tbody tr th:only-of-type {\n",
       "        vertical-align: middle;\n",
       "    }\n",
       "\n",
       "    .dataframe tbody tr th {\n",
       "        vertical-align: top;\n",
       "    }\n",
       "\n",
       "    .dataframe thead th {\n",
       "        text-align: right;\n",
       "    }\n",
       "</style>\n",
       "<table border=\"1\" class=\"dataframe\">\n",
       "  <thead>\n",
       "    <tr style=\"text-align: right;\">\n",
       "      <th></th>\n",
       "      <th>usaf</th>\n",
       "      <th>wban</th>\n",
       "      <th>datetime</th>\n",
       "      <th>latitude</th>\n",
       "      <th>longitude</th>\n",
       "      <th>elevation</th>\n",
       "      <th>windAngle</th>\n",
       "      <th>windSpeed</th>\n",
       "      <th>temperature</th>\n",
       "      <th>seaLvlPressure</th>\n",
       "      <th>...</th>\n",
       "      <th>presentWeatherIndicator</th>\n",
       "      <th>pastWeatherIndicator</th>\n",
       "      <th>precipTime</th>\n",
       "      <th>precipDepth</th>\n",
       "      <th>snowDepth</th>\n",
       "      <th>stationName</th>\n",
       "      <th>countryOrRegion</th>\n",
       "      <th>p_k</th>\n",
       "      <th>day</th>\n",
       "      <th>version</th>\n",
       "    </tr>\n",
       "  </thead>\n",
       "  <tbody>\n",
       "    <tr>\n",
       "      <th>0</th>\n",
       "      <td>999999</td>\n",
       "      <td>53878</td>\n",
       "      <td>2008-04-20 03:40:00</td>\n",
       "      <td>35.419</td>\n",
       "      <td>-82.557</td>\n",
       "      <td>641.0</td>\n",
       "      <td>NaN</td>\n",
       "      <td>NaN</td>\n",
       "      <td>9.5</td>\n",
       "      <td>NaN</td>\n",
       "      <td>...</td>\n",
       "      <td>NaN</td>\n",
       "      <td>NaN</td>\n",
       "      <td>NaN</td>\n",
       "      <td>NaN</td>\n",
       "      <td>NaN</td>\n",
       "      <td>ASHEVILLE 13 S</td>\n",
       "      <td>US</td>\n",
       "      <td>999999-53878</td>\n",
       "      <td>20</td>\n",
       "      <td>1.0</td>\n",
       "    </tr>\n",
       "    <tr>\n",
       "      <th>1</th>\n",
       "      <td>999999</td>\n",
       "      <td>53877</td>\n",
       "      <td>2008-04-06 08:20:00</td>\n",
       "      <td>35.495</td>\n",
       "      <td>-82.614</td>\n",
       "      <td>656.0</td>\n",
       "      <td>NaN</td>\n",
       "      <td>NaN</td>\n",
       "      <td>7.2</td>\n",
       "      <td>NaN</td>\n",
       "      <td>...</td>\n",
       "      <td>NaN</td>\n",
       "      <td>NaN</td>\n",
       "      <td>NaN</td>\n",
       "      <td>NaN</td>\n",
       "      <td>NaN</td>\n",
       "      <td>ASHEVILLE 8 SSW</td>\n",
       "      <td>US</td>\n",
       "      <td>999999-53877</td>\n",
       "      <td>6</td>\n",
       "      <td>1.0</td>\n",
       "    </tr>\n",
       "    <tr>\n",
       "      <th>2</th>\n",
       "      <td>999999</td>\n",
       "      <td>53877</td>\n",
       "      <td>2008-04-13 12:35:00</td>\n",
       "      <td>35.495</td>\n",
       "      <td>-82.614</td>\n",
       "      <td>656.0</td>\n",
       "      <td>NaN</td>\n",
       "      <td>NaN</td>\n",
       "      <td>6.5</td>\n",
       "      <td>NaN</td>\n",
       "      <td>...</td>\n",
       "      <td>NaN</td>\n",
       "      <td>NaN</td>\n",
       "      <td>NaN</td>\n",
       "      <td>NaN</td>\n",
       "      <td>NaN</td>\n",
       "      <td>ASHEVILLE 8 SSW</td>\n",
       "      <td>US</td>\n",
       "      <td>999999-53877</td>\n",
       "      <td>13</td>\n",
       "      <td>1.0</td>\n",
       "    </tr>\n",
       "    <tr>\n",
       "      <th>3</th>\n",
       "      <td>999999</td>\n",
       "      <td>53877</td>\n",
       "      <td>2008-04-07 22:55:00</td>\n",
       "      <td>35.495</td>\n",
       "      <td>-82.614</td>\n",
       "      <td>656.0</td>\n",
       "      <td>NaN</td>\n",
       "      <td>NaN</td>\n",
       "      <td>16.2</td>\n",
       "      <td>NaN</td>\n",
       "      <td>...</td>\n",
       "      <td>NaN</td>\n",
       "      <td>NaN</td>\n",
       "      <td>NaN</td>\n",
       "      <td>NaN</td>\n",
       "      <td>NaN</td>\n",
       "      <td>ASHEVILLE 8 SSW</td>\n",
       "      <td>US</td>\n",
       "      <td>999999-53877</td>\n",
       "      <td>7</td>\n",
       "      <td>1.0</td>\n",
       "    </tr>\n",
       "    <tr>\n",
       "      <th>4</th>\n",
       "      <td>999999</td>\n",
       "      <td>53877</td>\n",
       "      <td>2008-04-30 09:00:00</td>\n",
       "      <td>35.495</td>\n",
       "      <td>-82.614</td>\n",
       "      <td>656.0</td>\n",
       "      <td>NaN</td>\n",
       "      <td>0.1</td>\n",
       "      <td>-2.1</td>\n",
       "      <td>NaN</td>\n",
       "      <td>...</td>\n",
       "      <td>NaN</td>\n",
       "      <td>NaN</td>\n",
       "      <td>1.0</td>\n",
       "      <td>0.0</td>\n",
       "      <td>NaN</td>\n",
       "      <td>ASHEVILLE 8 SSW</td>\n",
       "      <td>US</td>\n",
       "      <td>999999-53877</td>\n",
       "      <td>30</td>\n",
       "      <td>1.0</td>\n",
       "    </tr>\n",
       "  </tbody>\n",
       "</table>\n",
       "<p>5 rows × 21 columns</p>\n",
       "</div>"
      ],
      "text/plain": [
       "     usaf   wban            datetime  latitude  longitude  elevation  \\\n",
       "0  999999  53878 2008-04-20 03:40:00    35.419    -82.557      641.0   \n",
       "1  999999  53877 2008-04-06 08:20:00    35.495    -82.614      656.0   \n",
       "2  999999  53877 2008-04-13 12:35:00    35.495    -82.614      656.0   \n",
       "3  999999  53877 2008-04-07 22:55:00    35.495    -82.614      656.0   \n",
       "4  999999  53877 2008-04-30 09:00:00    35.495    -82.614      656.0   \n",
       "\n",
       "   windAngle  windSpeed  temperature  seaLvlPressure  ...  \\\n",
       "0        NaN        NaN          9.5             NaN  ...   \n",
       "1        NaN        NaN          7.2             NaN  ...   \n",
       "2        NaN        NaN          6.5             NaN  ...   \n",
       "3        NaN        NaN         16.2             NaN  ...   \n",
       "4        NaN        0.1         -2.1             NaN  ...   \n",
       "\n",
       "  presentWeatherIndicator  pastWeatherIndicator  precipTime  precipDepth  \\\n",
       "0                     NaN                   NaN         NaN          NaN   \n",
       "1                     NaN                   NaN         NaN          NaN   \n",
       "2                     NaN                   NaN         NaN          NaN   \n",
       "3                     NaN                   NaN         NaN          NaN   \n",
       "4                     NaN                   NaN         1.0          0.0   \n",
       "\n",
       "   snowDepth      stationName countryOrRegion           p_k day  version  \n",
       "0        NaN   ASHEVILLE 13 S              US  999999-53878  20      1.0  \n",
       "1        NaN  ASHEVILLE 8 SSW              US  999999-53877   6      1.0  \n",
       "2        NaN  ASHEVILLE 8 SSW              US  999999-53877  13      1.0  \n",
       "3        NaN  ASHEVILLE 8 SSW              US  999999-53877   7      1.0  \n",
       "4        NaN  ASHEVILLE 8 SSW              US  999999-53877  30      1.0  \n",
       "\n",
       "[5 rows x 21 columns]"
      ]
     },
     "execution_count": 24,
     "metadata": {},
     "output_type": "execute_result"
    },
    {
     "name": "stderr",
     "output_type": "stream",
     "text": [
      "distributed.client - ERROR - Failed to reconnect to scheduler after 10.00 seconds, closing client\n",
      "ERROR - _GatheringFuture exception was never retrieved\n",
      "future: <_GatheringFuture finished exception=CancelledError()>\n",
      "concurrent.futures._base.CancelledError\n",
      "distributed.client - ERROR - Failed to reconnect to scheduler after 10.00 seconds, closing client\n",
      "distributed.client - ERROR - Failed to reconnect to scheduler after 10.00 seconds, closing client\n",
      "ERROR - _GatheringFuture exception was never retrieved\n",
      "future: <_GatheringFuture finished exception=CancelledError()>\n",
      "concurrent.futures._base.CancelledError\n",
      "ERROR - _GatheringFuture exception was never retrieved\n",
      "future: <_GatheringFuture finished exception=CancelledError()>\n",
      "concurrent.futures._base.CancelledError\n"
     ]
    }
   ],
   "source": [
    "# df.head()\n",
    "\n",
    "import dask.dataframe as dd\n",
    "\n",
    "STORAGE_OPTIONS={'account_name': 'adlsdatalakegen6', 'account_key': keyvault.get_secret(\"adlsdatalakegen6\")}\n",
    "df = dd.read_parquet(parquet_file_list, storage_options=STORAGE_OPTIONS,engine='pyarrow').repartition(npartitions=200).persist()\n",
    "%time df.head()\n"
   ]
  },
  {
   "cell_type": "code",
   "execution_count": 15,
   "metadata": {},
   "outputs": [
    {
     "name": "stdout",
     "output_type": "stream",
     "text": [
      "CPU times: user 5.96 s, sys: 792 ms, total: 6.75 s\n",
      "Wall time: 2min 17s\n"
     ]
    },
    {
     "data": {
      "text/plain": [
       "73696631"
      ]
     },
     "execution_count": 15,
     "metadata": {},
     "output_type": "execute_result"
    }
   ],
   "source": [
    "\n",
    "%time df.shape[0].compute()"
   ]
  },
  {
   "cell_type": "code",
   "execution_count": null,
   "metadata": {},
   "outputs": [],
   "source": [
    "# pd_df = df.compute()"
   ]
  },
  {
   "cell_type": "code",
   "execution_count": 17,
   "metadata": {},
   "outputs": [
    {
     "name": "stdout",
     "output_type": "stream",
     "text": [
      "CPU times: user 432 ms, sys: 13.4 ms, total: 445 ms\n",
      "Wall time: 56.9 s\n"
     ]
    },
    {
     "data": {
      "text/plain": [
       "81837618"
      ]
     },
     "execution_count": 17,
     "metadata": {},
     "output_type": "execute_result"
    }
   ],
   "source": [
    "df = df.set_index(dd.to_datetime(df.datetime).dt.floor('d'), sorted=False).persist()\n",
    "%time len(df)\n",
    "\n"
   ]
  },
  {
   "cell_type": "code",
   "execution_count": 18,
   "metadata": {},
   "outputs": [
    {
     "data": {
      "text/html": [
       "<div>\n",
       "<style scoped>\n",
       "    .dataframe tbody tr th:only-of-type {\n",
       "        vertical-align: middle;\n",
       "    }\n",
       "\n",
       "    .dataframe tbody tr th {\n",
       "        vertical-align: top;\n",
       "    }\n",
       "\n",
       "    .dataframe thead th {\n",
       "        text-align: right;\n",
       "    }\n",
       "</style>\n",
       "<table border=\"1\" class=\"dataframe\">\n",
       "  <thead>\n",
       "    <tr style=\"text-align: right;\">\n",
       "      <th></th>\n",
       "      <th>usaf</th>\n",
       "      <th>wban</th>\n",
       "      <th>datetime</th>\n",
       "      <th>latitude</th>\n",
       "      <th>longitude</th>\n",
       "      <th>elevation</th>\n",
       "      <th>windAngle</th>\n",
       "      <th>windSpeed</th>\n",
       "      <th>temperature</th>\n",
       "      <th>seaLvlPressure</th>\n",
       "      <th>...</th>\n",
       "      <th>presentWeatherIndicator</th>\n",
       "      <th>pastWeatherIndicator</th>\n",
       "      <th>precipTime</th>\n",
       "      <th>precipDepth</th>\n",
       "      <th>snowDepth</th>\n",
       "      <th>stationName</th>\n",
       "      <th>countryOrRegion</th>\n",
       "      <th>p_k</th>\n",
       "      <th>day</th>\n",
       "      <th>version</th>\n",
       "    </tr>\n",
       "  </thead>\n",
       "  <tbody>\n",
       "  </tbody>\n",
       "</table>\n",
       "<p>0 rows × 21 columns</p>\n",
       "</div>"
      ],
      "text/plain": [
       "Empty DataFrame\n",
       "Columns: [usaf, wban, datetime, latitude, longitude, elevation, windAngle, windSpeed, temperature, seaLvlPressure, cloudCoverage, presentWeatherIndicator, pastWeatherIndicator, precipTime, precipDepth, snowDepth, stationName, countryOrRegion, p_k, day, version]\n",
       "Index: []\n",
       "\n",
       "[0 rows x 21 columns]"
      ]
     },
     "execution_count": 18,
     "metadata": {},
     "output_type": "execute_result"
    }
   ],
   "source": [
    "df.head()"
   ]
  },
  {
   "cell_type": "code",
   "execution_count": 19,
   "metadata": {},
   "outputs": [
    {
     "data": {
      "text/html": [
       "<div>\n",
       "<style scoped>\n",
       "    .dataframe tbody tr th:only-of-type {\n",
       "        vertical-align: middle;\n",
       "    }\n",
       "\n",
       "    .dataframe tbody tr th {\n",
       "        vertical-align: top;\n",
       "    }\n",
       "\n",
       "    .dataframe thead th {\n",
       "        text-align: right;\n",
       "    }\n",
       "</style>\n",
       "<table border=\"1\" class=\"dataframe\">\n",
       "  <thead>\n",
       "    <tr style=\"text-align: right;\">\n",
       "      <th></th>\n",
       "      <th>usaf</th>\n",
       "      <th>wban</th>\n",
       "      <th>datetime</th>\n",
       "      <th>latitude</th>\n",
       "      <th>longitude</th>\n",
       "      <th>elevation</th>\n",
       "      <th>windAngle</th>\n",
       "      <th>windSpeed</th>\n",
       "      <th>temperature</th>\n",
       "      <th>seaLvlPressure</th>\n",
       "      <th>...</th>\n",
       "      <th>presentWeatherIndicator</th>\n",
       "      <th>pastWeatherIndicator</th>\n",
       "      <th>precipTime</th>\n",
       "      <th>precipDepth</th>\n",
       "      <th>snowDepth</th>\n",
       "      <th>stationName</th>\n",
       "      <th>countryOrRegion</th>\n",
       "      <th>p_k</th>\n",
       "      <th>day</th>\n",
       "      <th>version</th>\n",
       "    </tr>\n",
       "  </thead>\n",
       "  <tbody>\n",
       "    <tr>\n",
       "      <th>2008-12-31</th>\n",
       "      <td>703670</td>\n",
       "      <td>25322</td>\n",
       "      <td>2008-12-31 01:56:00</td>\n",
       "      <td>58.424</td>\n",
       "      <td>-137.700</td>\n",
       "      <td>9.0</td>\n",
       "      <td>0.0</td>\n",
       "      <td>0.0</td>\n",
       "      <td>-9.0</td>\n",
       "      <td>NaN</td>\n",
       "      <td>...</td>\n",
       "      <td>NaN</td>\n",
       "      <td>NaN</td>\n",
       "      <td>NaN</td>\n",
       "      <td>NaN</td>\n",
       "      <td>NaN</td>\n",
       "      <td>GUSTAVUS</td>\n",
       "      <td>US</td>\n",
       "      <td>703670-25322</td>\n",
       "      <td>31</td>\n",
       "      <td>1.0</td>\n",
       "    </tr>\n",
       "    <tr>\n",
       "      <th>2008-12-31</th>\n",
       "      <td>746940</td>\n",
       "      <td>03708</td>\n",
       "      <td>2008-12-31 21:00:00</td>\n",
       "      <td>35.460</td>\n",
       "      <td>-77.951</td>\n",
       "      <td>41.0</td>\n",
       "      <td>330.0</td>\n",
       "      <td>8.2</td>\n",
       "      <td>8.0</td>\n",
       "      <td>NaN</td>\n",
       "      <td>...</td>\n",
       "      <td>NaN</td>\n",
       "      <td>NaN</td>\n",
       "      <td>NaN</td>\n",
       "      <td>NaN</td>\n",
       "      <td>NaN</td>\n",
       "      <td>GOLDSBORO-WAYNE MUNI ARPT</td>\n",
       "      <td>US</td>\n",
       "      <td>746940-03708</td>\n",
       "      <td>31</td>\n",
       "      <td>1.0</td>\n",
       "    </tr>\n",
       "    <tr>\n",
       "      <th>2008-12-31</th>\n",
       "      <td>994420</td>\n",
       "      <td>99999</td>\n",
       "      <td>2008-12-31 07:00:00</td>\n",
       "      <td>30.250</td>\n",
       "      <td>-88.083</td>\n",
       "      <td>9.0</td>\n",
       "      <td>240.0</td>\n",
       "      <td>2.6</td>\n",
       "      <td>15.9</td>\n",
       "      <td>1018.7</td>\n",
       "      <td>...</td>\n",
       "      <td>NaN</td>\n",
       "      <td>NaN</td>\n",
       "      <td>NaN</td>\n",
       "      <td>NaN</td>\n",
       "      <td>NaN</td>\n",
       "      <td>DAUPHIN ISLAND  AL</td>\n",
       "      <td>US</td>\n",
       "      <td>994420-99999</td>\n",
       "      <td>31</td>\n",
       "      <td>1.0</td>\n",
       "    </tr>\n",
       "    <tr>\n",
       "      <th>2008-12-31</th>\n",
       "      <td>703870</td>\n",
       "      <td>25338</td>\n",
       "      <td>2008-12-31 04:36:00</td>\n",
       "      <td>56.484</td>\n",
       "      <td>-132.360</td>\n",
       "      <td>13.0</td>\n",
       "      <td>80.0</td>\n",
       "      <td>8.2</td>\n",
       "      <td>-4.0</td>\n",
       "      <td>NaN</td>\n",
       "      <td>...</td>\n",
       "      <td>NaN</td>\n",
       "      <td>NaN</td>\n",
       "      <td>NaN</td>\n",
       "      <td>NaN</td>\n",
       "      <td>NaN</td>\n",
       "      <td>WRANGELL AIRPORT</td>\n",
       "      <td>US</td>\n",
       "      <td>703870-25338</td>\n",
       "      <td>31</td>\n",
       "      <td>1.0</td>\n",
       "    </tr>\n",
       "    <tr>\n",
       "      <th>2008-12-31</th>\n",
       "      <td>564620</td>\n",
       "      <td>99999</td>\n",
       "      <td>2008-12-31 15:00:00</td>\n",
       "      <td>29.000</td>\n",
       "      <td>101.500</td>\n",
       "      <td>2994.0</td>\n",
       "      <td>160.0</td>\n",
       "      <td>2.0</td>\n",
       "      <td>3.1</td>\n",
       "      <td>NaN</td>\n",
       "      <td>...</td>\n",
       "      <td>NaN</td>\n",
       "      <td>NaN</td>\n",
       "      <td>NaN</td>\n",
       "      <td>NaN</td>\n",
       "      <td>NaN</td>\n",
       "      <td>JIULONG</td>\n",
       "      <td>CH</td>\n",
       "      <td>564620-99999</td>\n",
       "      <td>31</td>\n",
       "      <td>1.0</td>\n",
       "    </tr>\n",
       "  </tbody>\n",
       "</table>\n",
       "<p>5 rows × 21 columns</p>\n",
       "</div>"
      ],
      "text/plain": [
       "              usaf   wban            datetime  latitude  longitude  elevation  \\\n",
       "2008-12-31  703670  25322 2008-12-31 01:56:00    58.424   -137.700        9.0   \n",
       "2008-12-31  746940  03708 2008-12-31 21:00:00    35.460    -77.951       41.0   \n",
       "2008-12-31  994420  99999 2008-12-31 07:00:00    30.250    -88.083        9.0   \n",
       "2008-12-31  703870  25338 2008-12-31 04:36:00    56.484   -132.360       13.0   \n",
       "2008-12-31  564620  99999 2008-12-31 15:00:00    29.000    101.500     2994.0   \n",
       "\n",
       "            windAngle  windSpeed  temperature  seaLvlPressure  ...  \\\n",
       "2008-12-31        0.0        0.0         -9.0             NaN  ...   \n",
       "2008-12-31      330.0        8.2          8.0             NaN  ...   \n",
       "2008-12-31      240.0        2.6         15.9          1018.7  ...   \n",
       "2008-12-31       80.0        8.2         -4.0             NaN  ...   \n",
       "2008-12-31      160.0        2.0          3.1             NaN  ...   \n",
       "\n",
       "           presentWeatherIndicator  pastWeatherIndicator  precipTime  \\\n",
       "2008-12-31                     NaN                   NaN         NaN   \n",
       "2008-12-31                     NaN                   NaN         NaN   \n",
       "2008-12-31                     NaN                   NaN         NaN   \n",
       "2008-12-31                     NaN                   NaN         NaN   \n",
       "2008-12-31                     NaN                   NaN         NaN   \n",
       "\n",
       "            precipDepth  snowDepth                stationName countryOrRegion  \\\n",
       "2008-12-31          NaN        NaN                   GUSTAVUS              US   \n",
       "2008-12-31          NaN        NaN  GOLDSBORO-WAYNE MUNI ARPT              US   \n",
       "2008-12-31          NaN        NaN         DAUPHIN ISLAND  AL              US   \n",
       "2008-12-31          NaN        NaN           WRANGELL AIRPORT              US   \n",
       "2008-12-31          NaN        NaN                    JIULONG              CH   \n",
       "\n",
       "                     p_k day  version  \n",
       "2008-12-31  703670-25322  31      1.0  \n",
       "2008-12-31  746940-03708  31      1.0  \n",
       "2008-12-31  994420-99999  31      1.0  \n",
       "2008-12-31  703870-25338  31      1.0  \n",
       "2008-12-31  564620-99999  31      1.0  \n",
       "\n",
       "[5 rows x 21 columns]"
      ]
     },
     "execution_count": 19,
     "metadata": {},
     "output_type": "execute_result"
    }
   ],
   "source": [
    "df.tail()"
   ]
  },
  {
   "cell_type": "code",
   "execution_count": 20,
   "metadata": {},
   "outputs": [
    {
     "name": "stdout",
     "output_type": "stream",
     "text": [
      "CPU times: user 8.35 s, sys: 51.5 ms, total: 8.4 s\n",
      "Wall time: 15.6 s\n"
     ]
    },
    {
     "data": {
      "text/html": [
       "<div>\n",
       "<style scoped>\n",
       "    .dataframe tbody tr th:only-of-type {\n",
       "        vertical-align: middle;\n",
       "    }\n",
       "\n",
       "    .dataframe tbody tr th {\n",
       "        vertical-align: top;\n",
       "    }\n",
       "\n",
       "    .dataframe thead th {\n",
       "        text-align: right;\n",
       "    }\n",
       "</style>\n",
       "<table border=\"1\" class=\"dataframe\">\n",
       "  <thead>\n",
       "    <tr style=\"text-align: right;\">\n",
       "      <th></th>\n",
       "      <th>latitude</th>\n",
       "      <th>longitude</th>\n",
       "      <th>elevation</th>\n",
       "      <th>windAngle</th>\n",
       "      <th>windSpeed</th>\n",
       "      <th>temperature</th>\n",
       "      <th>seaLvlPressure</th>\n",
       "      <th>presentWeatherIndicator</th>\n",
       "      <th>pastWeatherIndicator</th>\n",
       "      <th>precipTime</th>\n",
       "      <th>precipDepth</th>\n",
       "      <th>snowDepth</th>\n",
       "      <th>day</th>\n",
       "      <th>version</th>\n",
       "    </tr>\n",
       "  </thead>\n",
       "  <tbody>\n",
       "    <tr>\n",
       "      <th>count</th>\n",
       "      <td>8.183762e+07</td>\n",
       "      <td>8.183762e+07</td>\n",
       "      <td>8.183762e+07</td>\n",
       "      <td>6.653191e+07</td>\n",
       "      <td>6.892623e+07</td>\n",
       "      <td>7.976075e+07</td>\n",
       "      <td>3.019107e+07</td>\n",
       "      <td>7.631862e+06</td>\n",
       "      <td>3.358177e+06</td>\n",
       "      <td>1.587158e+07</td>\n",
       "      <td>1.587158e+07</td>\n",
       "      <td>235416.000000</td>\n",
       "      <td>8.183762e+07</td>\n",
       "      <td>81837618.0</td>\n",
       "    </tr>\n",
       "    <tr>\n",
       "      <th>mean</th>\n",
       "      <td>3.804371e+01</td>\n",
       "      <td>-4.089479e+01</td>\n",
       "      <td>3.490733e+02</td>\n",
       "      <td>1.640719e+02</td>\n",
       "      <td>3.491411e+00</td>\n",
       "      <td>1.315999e+01</td>\n",
       "      <td>1.014005e+03</td>\n",
       "      <td>2.739949e+01</td>\n",
       "      <td>4.212506e+00</td>\n",
       "      <td>5.613270e+00</td>\n",
       "      <td>4.215797e+01</td>\n",
       "      <td>25.789037</td>\n",
       "      <td>1.580390e+01</td>\n",
       "      <td>1.0</td>\n",
       "    </tr>\n",
       "    <tr>\n",
       "      <th>std</th>\n",
       "      <td>2.078054e+01</td>\n",
       "      <td>7.845431e+01</td>\n",
       "      <td>5.336248e+02</td>\n",
       "      <td>1.150190e+02</td>\n",
       "      <td>2.893313e+00</td>\n",
       "      <td>1.153178e+01</td>\n",
       "      <td>9.067073e+00</td>\n",
       "      <td>2.785420e+01</td>\n",
       "      <td>3.032504e+00</td>\n",
       "      <td>8.274215e+00</td>\n",
       "      <td>5.651420e+02</td>\n",
       "      <td>71.053035</td>\n",
       "      <td>8.835149e+00</td>\n",
       "      <td>0.0</td>\n",
       "    </tr>\n",
       "    <tr>\n",
       "      <th>min</th>\n",
       "      <td>-9.000000e+01</td>\n",
       "      <td>-1.799830e+02</td>\n",
       "      <td>-3.500000e+02</td>\n",
       "      <td>0.000000e+00</td>\n",
       "      <td>0.000000e+00</td>\n",
       "      <td>-8.300000e+01</td>\n",
       "      <td>9.000000e+02</td>\n",
       "      <td>0.000000e+00</td>\n",
       "      <td>0.000000e+00</td>\n",
       "      <td>0.000000e+00</td>\n",
       "      <td>0.000000e+00</td>\n",
       "      <td>0.000000</td>\n",
       "      <td>1.000000e+00</td>\n",
       "      <td>1.0</td>\n",
       "    </tr>\n",
       "    <tr>\n",
       "      <th>25%</th>\n",
       "      <td>3.423300e+01</td>\n",
       "      <td>-9.588300e+01</td>\n",
       "      <td>3.100000e+01</td>\n",
       "      <td>9.000000e+01</td>\n",
       "      <td>2.100000e+00</td>\n",
       "      <td>1.000000e+01</td>\n",
       "      <td>1.012000e+03</td>\n",
       "      <td>1.000000e+01</td>\n",
       "      <td>2.000000e+00</td>\n",
       "      <td>1.000000e+00</td>\n",
       "      <td>0.000000e+00</td>\n",
       "      <td>3.000000</td>\n",
       "      <td>8.000000e+00</td>\n",
       "      <td>1.0</td>\n",
       "    </tr>\n",
       "    <tr>\n",
       "      <th>50%</th>\n",
       "      <td>4.170100e+01</td>\n",
       "      <td>-7.688300e+01</td>\n",
       "      <td>1.680000e+02</td>\n",
       "      <td>2.300000e+02</td>\n",
       "      <td>4.100000e+00</td>\n",
       "      <td>1.700000e+01</td>\n",
       "      <td>1.016800e+03</td>\n",
       "      <td>2.100000e+01</td>\n",
       "      <td>6.000000e+00</td>\n",
       "      <td>1.000000e+00</td>\n",
       "      <td>0.000000e+00</td>\n",
       "      <td>16.000000</td>\n",
       "      <td>1.600000e+01</td>\n",
       "      <td>1.0</td>\n",
       "    </tr>\n",
       "    <tr>\n",
       "      <th>75%</th>\n",
       "      <td>4.866700e+01</td>\n",
       "      <td>1.421700e+01</td>\n",
       "      <td>4.020000e+02</td>\n",
       "      <td>3.100000e+02</td>\n",
       "      <td>6.700000e+00</td>\n",
       "      <td>2.700000e+01</td>\n",
       "      <td>1.031200e+03</td>\n",
       "      <td>6.300000e+01</td>\n",
       "      <td>8.000000e+00</td>\n",
       "      <td>6.000000e+00</td>\n",
       "      <td>5.000000e+00</td>\n",
       "      <td>67.500000</td>\n",
       "      <td>2.400000e+01</td>\n",
       "      <td>1.0</td>\n",
       "    </tr>\n",
       "    <tr>\n",
       "      <th>max</th>\n",
       "      <td>8.670000e+01</td>\n",
       "      <td>1.797500e+02</td>\n",
       "      <td>9.999000e+03</td>\n",
       "      <td>3.600000e+02</td>\n",
       "      <td>9.000000e+01</td>\n",
       "      <td>5.800000e+01</td>\n",
       "      <td>1.088800e+03</td>\n",
       "      <td>9.900000e+01</td>\n",
       "      <td>9.000000e+00</td>\n",
       "      <td>9.900000e+01</td>\n",
       "      <td>9.999000e+03</td>\n",
       "      <td>999.000000</td>\n",
       "      <td>3.100000e+01</td>\n",
       "      <td>1.0</td>\n",
       "    </tr>\n",
       "  </tbody>\n",
       "</table>\n",
       "</div>"
      ],
      "text/plain": [
       "           latitude     longitude     elevation     windAngle     windSpeed  \\\n",
       "count  8.183762e+07  8.183762e+07  8.183762e+07  6.653191e+07  6.892623e+07   \n",
       "mean   3.804371e+01 -4.089479e+01  3.490733e+02  1.640719e+02  3.491411e+00   \n",
       "std    2.078054e+01  7.845431e+01  5.336248e+02  1.150190e+02  2.893313e+00   \n",
       "min   -9.000000e+01 -1.799830e+02 -3.500000e+02  0.000000e+00  0.000000e+00   \n",
       "25%    3.423300e+01 -9.588300e+01  3.100000e+01  9.000000e+01  2.100000e+00   \n",
       "50%    4.170100e+01 -7.688300e+01  1.680000e+02  2.300000e+02  4.100000e+00   \n",
       "75%    4.866700e+01  1.421700e+01  4.020000e+02  3.100000e+02  6.700000e+00   \n",
       "max    8.670000e+01  1.797500e+02  9.999000e+03  3.600000e+02  9.000000e+01   \n",
       "\n",
       "        temperature  seaLvlPressure  presentWeatherIndicator  \\\n",
       "count  7.976075e+07    3.019107e+07             7.631862e+06   \n",
       "mean   1.315999e+01    1.014005e+03             2.739949e+01   \n",
       "std    1.153178e+01    9.067073e+00             2.785420e+01   \n",
       "min   -8.300000e+01    9.000000e+02             0.000000e+00   \n",
       "25%    1.000000e+01    1.012000e+03             1.000000e+01   \n",
       "50%    1.700000e+01    1.016800e+03             2.100000e+01   \n",
       "75%    2.700000e+01    1.031200e+03             6.300000e+01   \n",
       "max    5.800000e+01    1.088800e+03             9.900000e+01   \n",
       "\n",
       "       pastWeatherIndicator    precipTime   precipDepth      snowDepth  \\\n",
       "count          3.358177e+06  1.587158e+07  1.587158e+07  235416.000000   \n",
       "mean           4.212506e+00  5.613270e+00  4.215797e+01      25.789037   \n",
       "std            3.032504e+00  8.274215e+00  5.651420e+02      71.053035   \n",
       "min            0.000000e+00  0.000000e+00  0.000000e+00       0.000000   \n",
       "25%            2.000000e+00  1.000000e+00  0.000000e+00       3.000000   \n",
       "50%            6.000000e+00  1.000000e+00  0.000000e+00      16.000000   \n",
       "75%            8.000000e+00  6.000000e+00  5.000000e+00      67.500000   \n",
       "max            9.000000e+00  9.900000e+01  9.999000e+03     999.000000   \n",
       "\n",
       "                day     version  \n",
       "count  8.183762e+07  81837618.0  \n",
       "mean   1.580390e+01         1.0  \n",
       "std    8.835149e+00         0.0  \n",
       "min    1.000000e+00         1.0  \n",
       "25%    8.000000e+00         1.0  \n",
       "50%    1.600000e+01         1.0  \n",
       "75%    2.400000e+01         1.0  \n",
       "max    3.100000e+01         1.0  "
      ]
     },
     "execution_count": 20,
     "metadata": {},
     "output_type": "execute_result"
    }
   ],
   "source": [
    "%time df.describe().compute()"
   ]
  },
  {
   "cell_type": "code",
   "execution_count": null,
   "metadata": {},
   "outputs": [],
   "source": [
    "%time means = df.groupby(df.index).mean().compute()\n",
    "means.head()"
   ]
  },
  {
   "cell_type": "code",
   "execution_count": null,
   "metadata": {},
   "outputs": [],
   "source": [
    "## insert any Pandas-like Dask transformation code \n",
    "df['temperature'] = df['temperature']*(9/5)+32 # 'Merica"
   ]
  },
  {
   "cell_type": "code",
   "execution_count": null,
   "metadata": {},
   "outputs": [],
   "source": [
    "# begin data prep for ML \n",
    "df = df.fillna(0)"
   ]
  },
  {
   "cell_type": "code",
   "execution_count": null,
   "metadata": {},
   "outputs": [],
   "source": [
    "cols = list(df.columns)\n",
    "cols = [col for col in cols if df.dtypes[col] != 'object' and col not in ['version', 'datetime']]\n",
    "cols"
   ]
  },
  {
   "cell_type": "code",
   "execution_count": null,
   "metadata": {},
   "outputs": [],
   "source": [
    "X = df[[col for col in cols if col not in ['temperature']]].persist()\n",
    "y = df.temperature.persist()\n",
    "# end data prep for ML"
   ]
  },
  {
   "cell_type": "code",
   "execution_count": null,
   "metadata": {},
   "outputs": [],
   "source": [
    "xgb = XGBRegressor(n_estimators=16)\n",
    "%time xgb.fit(X, y)"
   ]
  },
  {
   "cell_type": "code",
   "execution_count": null,
   "metadata": {},
   "outputs": [],
   "source": [
    "%time y_pred = xgb.predict(X).compute()"
   ]
  },
  {
   "cell_type": "code",
   "execution_count": null,
   "metadata": {},
   "outputs": [],
   "source": [
    "%time rmse = (((y.to_dask_array().compute()-y_pred)**2).mean())**.5\n",
    "print(f'Training RMSE: {round(rmse, 3)}')"
   ]
  },
  {
   "cell_type": "code",
   "execution_count": null,
   "metadata": {},
   "outputs": [],
   "source": [
    "lgbm = LGBMRegressor(n_estimators=16)\n",
    "%time lgbm.fit(X, y)"
   ]
  },
  {
   "cell_type": "code",
   "execution_count": null,
   "metadata": {},
   "outputs": [],
   "source": [
    "%time y_pred = lgbm.predict(X).compute()"
   ]
  },
  {
   "cell_type": "code",
   "execution_count": null,
   "metadata": {},
   "outputs": [],
   "source": [
    "%time rmse2 = (((y.to_dask_array().compute()-y_pred)**2).mean())**.5\n",
    "print(f'Training RMSE: {round(rmse2, 3)}')"
   ]
  },
  {
   "cell_type": "code",
   "execution_count": null,
   "metadata": {},
   "outputs": [
    {
     "name": "stderr",
     "output_type": "stream",
     "text": [
      "distributed.client - ERROR - Failed to reconnect to scheduler after 10.00 seconds, closing client\n",
      "ERROR - _GatheringFuture exception was never retrieved\n",
      "future: <_GatheringFuture finished exception=CancelledError()>\n",
      "concurrent.futures._base.CancelledError\n"
     ]
    }
   ],
   "source": [
    "if rmse2 < rmse:\n",
    "    best_model = 'lgbm'\n",
    "else:\n",
    "    best_model = 'xgb'\n",
    "\n",
    "best_model"
   ]
  },
  {
   "cell_type": "code",
   "execution_count": null,
   "metadata": {},
   "outputs": [],
   "source": [
    "model_path = f'{best_model}_noaa_isd.joblib.dat'\n",
    "joblib.dump(xgb, model_path) if best_model is 'xgb' else joblib.dump(lgbm, model_path)\n",
    "model2 = joblib.load(model_path)"
   ]
  },
  {
   "cell_type": "code",
   "execution_count": null,
   "metadata": {},
   "outputs": [],
   "source": [
    "model = Model.register(ws, \n",
    "                       model_name      = f'{best_model}-noaa-isd', \n",
    "                       model_path      = model_path,\n",
    "                       description     = f'NOAA ISD temperature predictor')"
   ]
  }
 ],
 "metadata": {
  "kernel_info": {
   "name": "python3-azureml"
  },
  "kernelspec": {
   "display_name": "Python 3.6 - AzureML",
   "language": "python",
   "name": "python3-azureml"
  },
  "language_info": {
   "codemirror_mode": {
    "name": "ipython",
    "version": 3
   },
   "file_extension": ".py",
   "mimetype": "text/x-python",
   "name": "python",
   "nbconvert_exporter": "python",
   "pygments_lexer": "ipython3",
   "version": "3.6.9"
  },
  "nteract": {
   "version": "nteract-front-end@1.0.0"
  }
 },
 "nbformat": 4,
 "nbformat_minor": 4
}
