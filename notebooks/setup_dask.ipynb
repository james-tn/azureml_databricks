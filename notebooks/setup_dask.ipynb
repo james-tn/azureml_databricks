{
 "cells": [
  {
   "cell_type": "markdown",
   "metadata": {},
   "source": [
    "# Start Interactive Dask Cluster"
   ]
  },
  {
   "cell_type": "code",
   "execution_count": 1,
   "metadata": {},
   "outputs": [
    {
     "name": "stdout",
     "output_type": "stream",
     "text": [
      "Collecting dask-cloudprovider\n",
      "  Downloading dask_cloudprovider-0.4.1-py3-none-any.whl (33 kB)\n",
      "Collecting aiobotocore>=0.10.2\n",
      "  Downloading aiobotocore-1.1.1-py3-none-any.whl (45 kB)\n",
      "\u001b[K     |████████████████████████████████| 45 kB 2.5 MB/s  eta 0:00:01\n",
      "\u001b[?25hCollecting dask>=2.2.0\n",
      "  Downloading dask-2.27.0-py3-none-any.whl (843 kB)\n",
      "\u001b[K     |████████████████████████████████| 843 kB 19.6 MB/s eta 0:00:01\n",
      "\u001b[?25hCollecting distributed>=2.3.1\n",
      "  Downloading distributed-2.27.0-py3-none-any.whl (652 kB)\n",
      "\u001b[K     |████████████████████████████████| 652 kB 44.5 MB/s eta 0:00:01\n",
      "\u001b[?25hRequirement already satisfied: azureml-sdk>=1.0.83 in /anaconda/envs/azureml_py36/lib/python3.6/site-packages (from dask-cloudprovider) (1.13.0)\n",
      "Collecting botocore<1.17.45,>=1.17.44\n",
      "  Downloading botocore-1.17.44-py2.py3-none-any.whl (6.5 MB)\n",
      "\u001b[K     |████████████████████████████████| 6.5 MB 50.5 MB/s eta 0:00:01\n",
      "\u001b[?25hCollecting aioitertools>=0.5.1\n",
      "  Downloading aioitertools-0.7.0-py3-none-any.whl (20 kB)\n",
      "Requirement already satisfied: wrapt>=1.10.10 in /anaconda/envs/azureml_py36/lib/python3.6/site-packages (from aiobotocore>=0.10.2->dask-cloudprovider) (1.12.1)\n",
      "Requirement already satisfied: aiohttp>=3.3.1 in /anaconda/envs/azureml_py36/lib/python3.6/site-packages (from aiobotocore>=0.10.2->dask-cloudprovider) (3.6.2)\n",
      "Requirement already satisfied: pyyaml in /anaconda/envs/azureml_py36/lib/python3.6/site-packages (from dask>=2.2.0->dask-cloudprovider) (5.3.1)\n",
      "Requirement already satisfied: setuptools in /anaconda/envs/azureml_py36/lib/python3.6/site-packages (from distributed>=2.3.1->dask-cloudprovider) (49.6.0.post20200814)\n",
      "Collecting toolz>=0.8.2\n",
      "  Downloading toolz-0.11.1-py3-none-any.whl (55 kB)\n",
      "\u001b[K     |████████████████████████████████| 55 kB 3.8 MB/s  eta 0:00:01\n",
      "\u001b[?25hCollecting cloudpickle>=1.5.0\n",
      "  Downloading cloudpickle-1.6.0-py3-none-any.whl (23 kB)\n",
      "Collecting zict>=0.1.3\n",
      "  Downloading zict-2.0.0-py3-none-any.whl (10 kB)\n",
      "Requirement already satisfied: msgpack>=0.6.0 in /anaconda/envs/azureml_py36/lib/python3.6/site-packages (from distributed>=2.3.1->dask-cloudprovider) (1.0.0)\n",
      "Requirement already satisfied: contextvars; python_version < \"3.7\" in /anaconda/envs/azureml_py36/lib/python3.6/site-packages (from distributed>=2.3.1->dask-cloudprovider) (2.4)\n",
      "Requirement already satisfied: tornado>=5; python_version < \"3.8\" in /anaconda/envs/azureml_py36/lib/python3.6/site-packages (from distributed>=2.3.1->dask-cloudprovider) (6.0.4)\n",
      "Collecting tblib>=1.6.0\n",
      "  Downloading tblib-1.7.0-py2.py3-none-any.whl (12 kB)\n",
      "Requirement already satisfied: psutil>=5.0 in /anaconda/envs/azureml_py36/lib/python3.6/site-packages (from distributed>=2.3.1->dask-cloudprovider) (5.7.2)\n",
      "Collecting sortedcontainers!=2.0.0,!=2.0.1\n",
      "  Downloading sortedcontainers-2.2.2-py2.py3-none-any.whl (29 kB)\n",
      "Requirement already satisfied: click>=6.6 in /anaconda/envs/azureml_py36/lib/python3.6/site-packages (from distributed>=2.3.1->dask-cloudprovider) (7.1.2)\n",
      "Requirement already satisfied: azureml-pipeline~=1.13.0 in /anaconda/envs/azureml_py36/lib/python3.6/site-packages (from azureml-sdk>=1.0.83->dask-cloudprovider) (1.13.0)\n",
      "Requirement already satisfied: azureml-core~=1.13.0 in /anaconda/envs/azureml_py36/lib/python3.6/site-packages (from azureml-sdk>=1.0.83->dask-cloudprovider) (1.13.0.post1)\n",
      "Requirement already satisfied: azureml-train~=1.13.0 in /anaconda/envs/azureml_py36/lib/python3.6/site-packages (from azureml-sdk>=1.0.83->dask-cloudprovider) (1.13.0)\n",
      "Requirement already satisfied: azureml-dataset-runtime[fuse]~=1.13.0 in /anaconda/envs/azureml_py36/lib/python3.6/site-packages (from azureml-sdk>=1.0.83->dask-cloudprovider) (1.13.0)\n",
      "Requirement already satisfied: azureml-train-automl-client~=1.13.0 in /anaconda/envs/azureml_py36/lib/python3.6/site-packages (from azureml-sdk>=1.0.83->dask-cloudprovider) (1.13.0.post2)\n",
      "Requirement already satisfied: python-dateutil<3.0.0,>=2.1 in /anaconda/envs/azureml_py36/lib/python3.6/site-packages (from botocore<1.17.45,>=1.17.44->aiobotocore>=0.10.2->dask-cloudprovider) (2.8.1)\n",
      "Requirement already satisfied: urllib3<1.26,>=1.20; python_version != \"3.4\" in /anaconda/envs/azureml_py36/lib/python3.6/site-packages (from botocore<1.17.45,>=1.17.44->aiobotocore>=0.10.2->dask-cloudprovider) (1.25.10)\n",
      "Requirement already satisfied: jmespath<1.0.0,>=0.7.1 in /anaconda/envs/azureml_py36/lib/python3.6/site-packages (from botocore<1.17.45,>=1.17.44->aiobotocore>=0.10.2->dask-cloudprovider) (0.10.0)\n",
      "Requirement already satisfied: docutils<0.16,>=0.10 in /anaconda/envs/azureml_py36/lib/python3.6/site-packages (from botocore<1.17.45,>=1.17.44->aiobotocore>=0.10.2->dask-cloudprovider) (0.15.2)\n",
      "Requirement already satisfied: typing_extensions>=3.7 in /anaconda/envs/azureml_py36/lib/python3.6/site-packages (from aioitertools>=0.5.1->aiobotocore>=0.10.2->dask-cloudprovider) (3.7.4.3)\n",
      "Requirement already satisfied: idna-ssl>=1.0; python_version < \"3.7\" in /anaconda/envs/azureml_py36/lib/python3.6/site-packages (from aiohttp>=3.3.1->aiobotocore>=0.10.2->dask-cloudprovider) (1.1.0)\n",
      "Requirement already satisfied: multidict<5.0,>=4.5 in /anaconda/envs/azureml_py36/lib/python3.6/site-packages (from aiohttp>=3.3.1->aiobotocore>=0.10.2->dask-cloudprovider) (4.7.6)\n",
      "Requirement already satisfied: chardet<4.0,>=2.0 in /anaconda/envs/azureml_py36/lib/python3.6/site-packages (from aiohttp>=3.3.1->aiobotocore>=0.10.2->dask-cloudprovider) (3.0.4)\n",
      "Requirement already satisfied: yarl<2.0,>=1.0 in /anaconda/envs/azureml_py36/lib/python3.6/site-packages (from aiohttp>=3.3.1->aiobotocore>=0.10.2->dask-cloudprovider) (1.5.1)\n",
      "Requirement already satisfied: attrs>=17.3.0 in /anaconda/envs/azureml_py36/lib/python3.6/site-packages (from aiohttp>=3.3.1->aiobotocore>=0.10.2->dask-cloudprovider) (20.2.0)\n",
      "Requirement already satisfied: async-timeout<4.0,>=3.0 in /anaconda/envs/azureml_py36/lib/python3.6/site-packages (from aiohttp>=3.3.1->aiobotocore>=0.10.2->dask-cloudprovider) (3.0.1)\n",
      "Collecting heapdict\n",
      "  Downloading HeapDict-1.0.1-py3-none-any.whl (3.9 kB)\n",
      "Requirement already satisfied: immutables>=0.9 in /anaconda/envs/azureml_py36/lib/python3.6/site-packages (from contextvars; python_version < \"3.7\"->distributed>=2.3.1->dask-cloudprovider) (0.14)\n",
      "Requirement already satisfied: azureml-pipeline-core~=1.13.0 in /anaconda/envs/azureml_py36/lib/python3.6/site-packages (from azureml-pipeline~=1.13.0->azureml-sdk>=1.0.83->dask-cloudprovider) (1.13.0)\n",
      "Requirement already satisfied: azureml-pipeline-steps~=1.13.0 in /anaconda/envs/azureml_py36/lib/python3.6/site-packages (from azureml-pipeline~=1.13.0->azureml-sdk>=1.0.83->dask-cloudprovider) (1.13.0)\n",
      "Requirement already satisfied: msrestazure>=0.4.33 in /anaconda/envs/azureml_py36/lib/python3.6/site-packages (from azureml-core~=1.13.0->azureml-sdk>=1.0.83->dask-cloudprovider) (0.6.4)\n",
      "Requirement already satisfied: jsonpickle in /anaconda/envs/azureml_py36/lib/python3.6/site-packages (from azureml-core~=1.13.0->azureml-sdk>=1.0.83->dask-cloudprovider) (1.4.1)\n",
      "Requirement already satisfied: pytz in /anaconda/envs/azureml_py36/lib/python3.6/site-packages (from azureml-core~=1.13.0->azureml-sdk>=1.0.83->dask-cloudprovider) (2020.1)\n",
      "Requirement already satisfied: azure-mgmt-resource<=10.2.0,>=1.2.1 in /anaconda/envs/azureml_py36/lib/python3.6/site-packages (from azureml-core~=1.13.0->azureml-sdk>=1.0.83->dask-cloudprovider) (10.2.0)\n",
      "Requirement already satisfied: SecretStorage in /anaconda/envs/azureml_py36/lib/python3.6/site-packages (from azureml-core~=1.13.0->azureml-sdk>=1.0.83->dask-cloudprovider) (3.1.2)\n",
      "Requirement already satisfied: docker in /anaconda/envs/azureml_py36/lib/python3.6/site-packages (from azureml-core~=1.13.0->azureml-sdk>=1.0.83->dask-cloudprovider) (4.3.1)\n",
      "Requirement already satisfied: contextlib2 in /anaconda/envs/azureml_py36/lib/python3.6/site-packages (from azureml-core~=1.13.0->azureml-sdk>=1.0.83->dask-cloudprovider) (0.6.0.post1)\n",
      "Requirement already satisfied: azure-common>=1.1.12 in /anaconda/envs/azureml_py36/lib/python3.6/site-packages (from azureml-core~=1.13.0->azureml-sdk>=1.0.83->dask-cloudprovider) (1.1.25)\n",
      "Requirement already satisfied: ruamel.yaml>=0.15.35 in /anaconda/envs/azureml_py36/lib/python3.6/site-packages (from azureml-core~=1.13.0->azureml-sdk>=1.0.83->dask-cloudprovider) (0.16.10)\n",
      "Requirement already satisfied: azure-mgmt-authorization>=0.40.0 in /anaconda/envs/azureml_py36/lib/python3.6/site-packages (from azureml-core~=1.13.0->azureml-sdk>=1.0.83->dask-cloudprovider) (0.61.0)\n",
      "Requirement already satisfied: azure-mgmt-storage>=1.5.0 in /anaconda/envs/azureml_py36/lib/python3.6/site-packages (from azureml-core~=1.13.0->azureml-sdk>=1.0.83->dask-cloudprovider) (11.2.0)\n",
      "Requirement already satisfied: adal>=1.2.0 in /anaconda/envs/azureml_py36/lib/python3.6/site-packages (from azureml-core~=1.13.0->azureml-sdk>=1.0.83->dask-cloudprovider) (1.2.4)\n",
      "Requirement already satisfied: azure-graphrbac>=0.40.0 in /anaconda/envs/azureml_py36/lib/python3.6/site-packages (from azureml-core~=1.13.0->azureml-sdk>=1.0.83->dask-cloudprovider) (0.61.1)\n",
      "Requirement already satisfied: PyJWT in /anaconda/envs/azureml_py36/lib/python3.6/site-packages (from azureml-core~=1.13.0->azureml-sdk>=1.0.83->dask-cloudprovider) (1.7.1)\n",
      "Requirement already satisfied: backports.tempfile in /anaconda/envs/azureml_py36/lib/python3.6/site-packages (from azureml-core~=1.13.0->azureml-sdk>=1.0.83->dask-cloudprovider) (1.0)\n",
      "Requirement already satisfied: azure-mgmt-containerregistry>=2.0.0 in /anaconda/envs/azureml_py36/lib/python3.6/site-packages (from azureml-core~=1.13.0->azureml-sdk>=1.0.83->dask-cloudprovider) (2.8.0)\n",
      "Requirement already satisfied: pyopenssl in /anaconda/envs/azureml_py36/lib/python3.6/site-packages (from azureml-core~=1.13.0->azureml-sdk>=1.0.83->dask-cloudprovider) (19.1.0)\n",
      "Requirement already satisfied: azure-mgmt-keyvault>=0.40.0 in /anaconda/envs/azureml_py36/lib/python3.6/site-packages (from azureml-core~=1.13.0->azureml-sdk>=1.0.83->dask-cloudprovider) (2.2.0)\n",
      "Requirement already satisfied: msrest>=0.5.1 in /anaconda/envs/azureml_py36/lib/python3.6/site-packages (from azureml-core~=1.13.0->azureml-sdk>=1.0.83->dask-cloudprovider) (0.6.18)\n",
      "Requirement already satisfied: ndg-httpsclient in /anaconda/envs/azureml_py36/lib/python3.6/site-packages (from azureml-core~=1.13.0->azureml-sdk>=1.0.83->dask-cloudprovider) (0.5.1)\n",
      "Requirement already satisfied: pathspec in /anaconda/envs/azureml_py36/lib/python3.6/site-packages (from azureml-core~=1.13.0->azureml-sdk>=1.0.83->dask-cloudprovider) (0.8.0)\n",
      "Requirement already satisfied: requests>=2.19.1 in /anaconda/envs/azureml_py36/lib/python3.6/site-packages (from azureml-core~=1.13.0->azureml-sdk>=1.0.83->dask-cloudprovider) (2.24.0)\n",
      "Requirement already satisfied: cryptography!=1.9,!=2.0.*,!=2.1.*,!=2.2.* in /anaconda/envs/azureml_py36/lib/python3.6/site-packages (from azureml-core~=1.13.0->azureml-sdk>=1.0.83->dask-cloudprovider) (3.1)\n",
      "Requirement already satisfied: azureml-train-core~=1.13.0 in /anaconda/envs/azureml_py36/lib/python3.6/site-packages (from azureml-train~=1.13.0->azureml-sdk>=1.0.83->dask-cloudprovider) (1.13.0)\n",
      "Requirement already satisfied: azureml-dataprep<2.1.0a,>=2.0.1a in /anaconda/envs/azureml_py36/lib/python3.6/site-packages (from azureml-dataset-runtime[fuse]~=1.13.0->azureml-sdk>=1.0.83->dask-cloudprovider) (2.0.10)\n",
      "Requirement already satisfied: pyarrow<2.0.0,>=0.17.0 in /anaconda/envs/azureml_py36/lib/python3.6/site-packages (from azureml-dataset-runtime[fuse]~=1.13.0->azureml-sdk>=1.0.83->dask-cloudprovider) (1.0.1)\n",
      "Requirement already satisfied: fusepy<4.0.0,>=3.0.1; extra == \"fuse\" in /anaconda/envs/azureml_py36/lib/python3.6/site-packages (from azureml-dataset-runtime[fuse]~=1.13.0->azureml-sdk>=1.0.83->dask-cloudprovider) (3.0.1)\n",
      "Requirement already satisfied: azureml-telemetry~=1.13.0 in /anaconda/envs/azureml_py36/lib/python3.6/site-packages (from azureml-train-automl-client~=1.13.0->azureml-sdk>=1.0.83->dask-cloudprovider) (1.13.0)\n",
      "Requirement already satisfied: azureml-automl-core~=1.13.0 in /anaconda/envs/azureml_py36/lib/python3.6/site-packages (from azureml-train-automl-client~=1.13.0->azureml-sdk>=1.0.83->dask-cloudprovider) (1.13.0)\n",
      "Requirement already satisfied: six>=1.5 in /anaconda/envs/azureml_py36/lib/python3.6/site-packages (from python-dateutil<3.0.0,>=2.1->botocore<1.17.45,>=1.17.44->aiobotocore>=0.10.2->dask-cloudprovider) (1.15.0)\n",
      "Requirement already satisfied: idna>=2.0 in /anaconda/envs/azureml_py36/lib/python3.6/site-packages (from idna-ssl>=1.0; python_version < \"3.7\"->aiohttp>=3.3.1->aiobotocore>=0.10.2->dask-cloudprovider) (2.10)\n",
      "Requirement already satisfied: importlib-metadata in /anaconda/envs/azureml_py36/lib/python3.6/site-packages (from jsonpickle->azureml-core~=1.13.0->azureml-sdk>=1.0.83->dask-cloudprovider) (1.7.0)\n",
      "Requirement already satisfied: jeepney>=0.4.2 in /anaconda/envs/azureml_py36/lib/python3.6/site-packages (from SecretStorage->azureml-core~=1.13.0->azureml-sdk>=1.0.83->dask-cloudprovider) (0.4.3)\n",
      "Requirement already satisfied: websocket-client>=0.32.0 in /anaconda/envs/azureml_py36/lib/python3.6/site-packages (from docker->azureml-core~=1.13.0->azureml-sdk>=1.0.83->dask-cloudprovider) (0.57.0)\n",
      "Requirement already satisfied: ruamel.yaml.clib>=0.1.2; platform_python_implementation == \"CPython\" and python_version < \"3.9\" in /anaconda/envs/azureml_py36/lib/python3.6/site-packages (from ruamel.yaml>=0.15.35->azureml-core~=1.13.0->azureml-sdk>=1.0.83->dask-cloudprovider) (0.2.0)\n",
      "Requirement already satisfied: backports.weakref in /anaconda/envs/azureml_py36/lib/python3.6/site-packages (from backports.tempfile->azureml-core~=1.13.0->azureml-sdk>=1.0.83->dask-cloudprovider) (1.0.post1)\n",
      "Requirement already satisfied: requests-oauthlib>=0.5.0 in /anaconda/envs/azureml_py36/lib/python3.6/site-packages (from msrest>=0.5.1->azureml-core~=1.13.0->azureml-sdk>=1.0.83->dask-cloudprovider) (1.3.0)\n",
      "Requirement already satisfied: certifi>=2017.4.17 in /anaconda/envs/azureml_py36/lib/python3.6/site-packages (from msrest>=0.5.1->azureml-core~=1.13.0->azureml-sdk>=1.0.83->dask-cloudprovider) (2020.6.20)\n",
      "Requirement already satisfied: isodate>=0.6.0 in /anaconda/envs/azureml_py36/lib/python3.6/site-packages (from msrest>=0.5.1->azureml-core~=1.13.0->azureml-sdk>=1.0.83->dask-cloudprovider) (0.6.0)\n",
      "Requirement already satisfied: pyasn1>=0.1.1 in /anaconda/envs/azureml_py36/lib/python3.6/site-packages (from ndg-httpsclient->azureml-core~=1.13.0->azureml-sdk>=1.0.83->dask-cloudprovider) (0.4.8)\n",
      "Requirement already satisfied: cffi!=1.11.3,>=1.8 in /anaconda/envs/azureml_py36/lib/python3.6/site-packages (from cryptography!=1.9,!=2.0.*,!=2.1.*,!=2.2.*->azureml-core~=1.13.0->azureml-sdk>=1.0.83->dask-cloudprovider) (1.14.2)\n",
      "Requirement already satisfied: azureml-train-restclients-hyperdrive~=1.13.0 in /anaconda/envs/azureml_py36/lib/python3.6/site-packages (from azureml-train-core~=1.13.0->azureml-train~=1.13.0->azureml-sdk>=1.0.83->dask-cloudprovider) (1.13.0)\n",
      "Requirement already satisfied: azure-identity<1.3.0,>=1.2.0 in /anaconda/envs/azureml_py36/lib/python3.6/site-packages (from azureml-dataprep<2.1.0a,>=2.0.1a->azureml-dataset-runtime[fuse]~=1.13.0->azureml-sdk>=1.0.83->dask-cloudprovider) (1.2.0)\n",
      "Requirement already satisfied: azureml-dataprep-native<21.0.0,>=20.1.1 in /anaconda/envs/azureml_py36/lib/python3.6/site-packages (from azureml-dataprep<2.1.0a,>=2.0.1a->azureml-dataset-runtime[fuse]~=1.13.0->azureml-sdk>=1.0.83->dask-cloudprovider) (20.1.1)\n",
      "Requirement already satisfied: dotnetcore2<3.0.0,>=2.1.14 in /anaconda/envs/azureml_py36/lib/python3.6/site-packages (from azureml-dataprep<2.1.0a,>=2.0.1a->azureml-dataset-runtime[fuse]~=1.13.0->azureml-sdk>=1.0.83->dask-cloudprovider) (2.1.14)\n",
      "Requirement already satisfied: numpy>=1.14 in /anaconda/envs/azureml_py36/lib/python3.6/site-packages (from pyarrow<2.0.0,>=0.17.0->azureml-dataset-runtime[fuse]~=1.13.0->azureml-sdk>=1.0.83->dask-cloudprovider) (1.18.5)\n",
      "Requirement already satisfied: applicationinsights in /anaconda/envs/azureml_py36/lib/python3.6/site-packages (from azureml-telemetry~=1.13.0->azureml-train-automl-client~=1.13.0->azureml-sdk>=1.0.83->dask-cloudprovider) (0.11.9)\n",
      "Requirement already satisfied: zipp>=0.5 in /anaconda/envs/azureml_py36/lib/python3.6/site-packages (from importlib-metadata->jsonpickle->azureml-core~=1.13.0->azureml-sdk>=1.0.83->dask-cloudprovider) (3.1.0)\n",
      "Requirement already satisfied: oauthlib>=3.0.0 in /anaconda/envs/azureml_py36/lib/python3.6/site-packages (from requests-oauthlib>=0.5.0->msrest>=0.5.1->azureml-core~=1.13.0->azureml-sdk>=1.0.83->dask-cloudprovider) (3.1.0)\n",
      "Requirement already satisfied: pycparser in /anaconda/envs/azureml_py36/lib/python3.6/site-packages (from cffi!=1.11.3,>=1.8->cryptography!=1.9,!=2.0.*,!=2.1.*,!=2.2.*->azureml-core~=1.13.0->azureml-sdk>=1.0.83->dask-cloudprovider) (2.20)\n",
      "Requirement already satisfied: msal-extensions~=0.1.3 in /anaconda/envs/azureml_py36/lib/python3.6/site-packages (from azure-identity<1.3.0,>=1.2.0->azureml-dataprep<2.1.0a,>=2.0.1a->azureml-dataset-runtime[fuse]~=1.13.0->azureml-sdk>=1.0.83->dask-cloudprovider) (0.1.3)\n",
      "Requirement already satisfied: azure-core<2.0.0,>=1.0.0 in /anaconda/envs/azureml_py36/lib/python3.6/site-packages (from azure-identity<1.3.0,>=1.2.0->azureml-dataprep<2.1.0a,>=2.0.1a->azureml-dataset-runtime[fuse]~=1.13.0->azureml-sdk>=1.0.83->dask-cloudprovider) (1.8.0)\n",
      "Requirement already satisfied: msal<2.0.0,>=1.0.0 in /anaconda/envs/azureml_py36/lib/python3.6/site-packages (from azure-identity<1.3.0,>=1.2.0->azureml-dataprep<2.1.0a,>=2.0.1a->azureml-dataset-runtime[fuse]~=1.13.0->azureml-sdk>=1.0.83->dask-cloudprovider) (1.4.3)\n",
      "Requirement already satisfied: distro>=1.2.0 in /anaconda/envs/azureml_py36/lib/python3.6/site-packages (from dotnetcore2<3.0.0,>=2.1.14->azureml-dataprep<2.1.0a,>=2.0.1a->azureml-dataset-runtime[fuse]~=1.13.0->azureml-sdk>=1.0.83->dask-cloudprovider) (1.5.0)\n",
      "Requirement already satisfied: portalocker~=1.0 in /anaconda/envs/azureml_py36/lib/python3.6/site-packages (from msal-extensions~=0.1.3->azure-identity<1.3.0,>=1.2.0->azureml-dataprep<2.1.0a,>=2.0.1a->azureml-dataset-runtime[fuse]~=1.13.0->azureml-sdk>=1.0.83->dask-cloudprovider) (1.7.1)\n",
      "\u001b[31mERROR: gym 0.17.2 has requirement cloudpickle<1.4.0,>=1.2.0, but you'll have cloudpickle 1.6.0 which is incompatible.\u001b[0m\n",
      "\u001b[31mERROR: boto3 1.14.49 has requirement botocore<1.18.0,>=1.17.49, but you'll have botocore 1.17.44 which is incompatible.\u001b[0m\n",
      "Installing collected packages: botocore, aioitertools, aiobotocore, dask, toolz, cloudpickle, heapdict, zict, tblib, sortedcontainers, distributed, dask-cloudprovider\n",
      "  Attempting uninstall: botocore\n",
      "    Found existing installation: botocore 1.17.49\n",
      "    Uninstalling botocore-1.17.49:\n",
      "      Successfully uninstalled botocore-1.17.49\n",
      "  Attempting uninstall: cloudpickle\n",
      "    Found existing installation: cloudpickle 1.3.0\n",
      "    Uninstalling cloudpickle-1.3.0:\n",
      "      Successfully uninstalled cloudpickle-1.3.0\n",
      "Successfully installed aiobotocore-1.1.1 aioitertools-0.7.0 botocore-1.17.44 cloudpickle-1.6.0 dask-2.27.0 dask-cloudprovider-0.4.1 distributed-2.27.0 heapdict-1.0.1 sortedcontainers-2.2.2 tblib-1.7.0 toolz-0.11.1 zict-2.0.0\n",
      "Note: you may need to restart the kernel to use updated packages.\n"
     ]
    }
   ],
   "source": [
    "pip install dask-cloudprovider"
   ]
  },
  {
   "cell_type": "markdown",
   "metadata": {},
   "source": [
    "**RESTART YOUR KERNEL**"
   ]
  },
  {
   "cell_type": "markdown",
   "metadata": {},
   "source": [
    "## Imports\n",
    "\n",
    "Import all packages used in this notebook."
   ]
  },
  {
   "cell_type": "code",
   "execution_count": 1,
   "metadata": {},
   "outputs": [],
   "source": [
    "import os\n",
    "\n",
    "from azureml.widgets import RunDetails\n",
    "from azureml.core.compute import ComputeTarget, AmlCompute\n",
    "from azureml.core import Workspace, Experiment, Datastore, Dataset, Environment"
   ]
  },
  {
   "cell_type": "markdown",
   "metadata": {},
   "source": [
    "## Azure ML setup\n",
    "\n",
    "Get the workspace."
   ]
  },
  {
   "cell_type": "code",
   "execution_count": 2,
   "metadata": {},
   "outputs": [
    {
     "name": "stdout",
     "output_type": "stream",
     "text": [
      "Performing interactive authentication. Please follow the instructions on the terminal.\n",
      "To sign in, use a web browser to open the page https://microsoft.com/devicelogin and enter the code FUA4B672G to authenticate.\n",
      "You have logged in. Now let us find all the subscriptions to which you have access...\n",
      "Interactive authentication successfully completed.\n"
     ]
    },
    {
     "data": {
      "text/plain": [
       "Workspace.create(name='qtmNpeMlWu2Ws0', subscription_id='6699340d-f248-4d52-8e5c-d0f06713b006', resource_group='qtmNpeMlWu2Rg0')"
      ]
     },
     "execution_count": 2,
     "metadata": {},
     "output_type": "execute_result"
    }
   ],
   "source": [
    "ws = Workspace.from_config()\n",
    "ws"
   ]
  },
  {
   "cell_type": "markdown",
   "metadata": {},
   "source": [
    "### Create VM pool\n",
    "\n",
    "Create Azure ML VM pool for creating remote dask cluster(s)."
   ]
  },
  {
   "cell_type": "code",
   "execution_count": 3,
   "metadata": {},
   "outputs": [
    {
     "data": {
      "text/plain": [
       "AmlCompute(workspace=Workspace.create(name='qtmNpeMlWu2Ws0', subscription_id='6699340d-f248-4d52-8e5c-d0f06713b006', resource_group='qtmNpeMlWu2Rg0'), name=dask-vnet-ct, id=/subscriptions/6699340d-f248-4d52-8e5c-d0f06713b006/resourceGroups/qtmNpeMlWu2Rg0/providers/Microsoft.MachineLearningServices/workspaces/qtmNpeMlWu2Ws0/computes/dask-vnet-ct, type=AmlCompute, provisioning_state=Succeeded, location=westus2, tags=None)"
      ]
     },
     "execution_count": 3,
     "metadata": {},
     "output_type": "execute_result"
    }
   ],
   "source": [
    "ct_name =\"dask-vnet-ct\"\n",
    "if ct_name not in ws.compute_targets:\n",
    "    # create config for Azure ML cluster\n",
    "    # change properties as needed\n",
    "    config = AmlCompute.provisioning_configuration(\n",
    "             vm_size                       = 'STANDARD_DS13_V2', # 8 core 56 GiB 112 SSD \n",
    "             min_nodes                     = 0,\n",
    "             max_nodes                     = 100,\n",
    "                vnet_resourcegroup_name=ws.resource_group,\n",
    "                    vnet_name='testasa8a486745f283',\n",
    "                subnet_name='default',\n",
    "             idle_seconds_before_scaledown = 300\n",
    "    )\n",
    "    ct = ComputeTarget.create(ws, ct_name, config)\n",
    "    ct.wait_for_completion(show_output=True)    \n",
    "else:\n",
    "    ct = ws.compute_targets[ct_name]\n",
    "    \n",
    "ct"
   ]
  },
  {
   "cell_type": "code",
   "execution_count": 5,
   "metadata": {},
   "outputs": [],
   "source": [
    "#ct.delete()"
   ]
  },
  {
   "cell_type": "markdown",
   "metadata": {},
   "source": [
    "### Start cluster\n",
    "\n"
   ]
  },
  {
   "cell_type": "code",
   "execution_count": 4,
   "metadata": {},
   "outputs": [],
   "source": [
    "from dask_cloudprovider import AzureMLCluster"
   ]
  },
  {
   "cell_type": "code",
   "execution_count": 5,
   "metadata": {},
   "outputs": [],
   "source": [
    "env_name = \"dask-env2\"\n",
    "packages = ['mpi4py',\n",
    "            'distributed',\n",
    "            'dask[complete]',\n",
    "            'dask-ml[complete]',\n",
    "            'fastparquet',\n",
    "            'pyarrow',\n",
    "            'jupyterlab',\n",
    "            'joblib',\n",
    "            'notebook',\n",
    "            'adlfs', \n",
    "            'fsspec', \n",
    "            'azureml-sdk[notebooks]',\n",
    "            ' dask-lightgbm',\n",
    "            'dask-xgboost',\n",
    "            'lightgbm',\n",
    "            'xgboost',\n",
    "            'pandas',\n",
    "            'lz4']\n",
    "\n",
    "env = Environment(name=env_name)\n",
    "\n",
    "for package in packages:\n",
    "    env.python.conda_dependencies.add_pip_package(package)"
   ]
  },
  {
   "cell_type": "code",
   "execution_count": 6,
   "metadata": {},
   "outputs": [
    {
     "name": "stdout",
     "output_type": "stream",
     "text": [
      "############################## Setting up cluster ##############################\n"
     ]
    },
    {
     "name": "stderr",
     "output_type": "stream",
     "text": [
      "WARNING - If 'script' has been provided here and a script file name has been specified in 'run_config', 'script' provided in ScriptRunConfig initialization will take precedence.\n",
      "WARNING - If 'arguments' has been provided here and arguments have been specified in 'run_config', 'arguments' provided in ScriptRunConfig initialization will take precedence.\n"
     ]
    },
    {
     "name": "stdout",
     "output_type": "stream",
     "text": [
      "####################### Waiting for scheduler node's IP ########################\n",
      "..........................................................\n",
      "\n",
      "########################### Scheduler: 10.0.0.5:8786 ###########################\n",
      "############################### On the same VNET ###############################\n",
      "###################### Running in compute instance? True #######################\n",
      "########################### Connections established ############################\n",
      "############################# Scaling to 1 workers #############################\n",
      "############################### Scaling is done ################################\n"
     ]
    }
   ],
   "source": [
    "from dask_cloudprovider import AzureMLCluster\n",
    "\n",
    "cluster = AzureMLCluster(ws, \n",
    "                         compute_target=ct, \n",
    "                         environment_definition = env,\n",
    "                         scheduler_idle_timeout=7200, \n",
    "                         jupyter=True, \n",
    "                         show_output=True)"
   ]
  },
  {
   "cell_type": "code",
   "execution_count": 7,
   "metadata": {},
   "outputs": [
    {
     "name": "stderr",
     "output_type": "stream",
     "text": [
      "WARNING - If 'script' has been provided here and a script file name has been specified in 'run_config', 'script' provided in ScriptRunConfig initialization will take precedence.\n"
     ]
    }
   ],
   "source": [
    "cluster.scale(25) # need more than default quota for this "
   ]
  },
  {
   "cell_type": "code",
   "execution_count": 8,
   "metadata": {
    "scrolled": true
   },
   "outputs": [
    {
     "data": {
      "application/vnd.jupyter.widget-view+json": {
       "model_id": "e515b34829af40a491933b8f6ff82387",
       "version_major": 2,
       "version_minor": 0
      },
      "text/plain": [
       "VBox(children=(HTML(value='<h2>AzureMLCluster</h2>'), HBox(children=(HTML(value='\\n<div>\\n  <style scoped>\\n  …"
      ]
     },
     "metadata": {},
     "output_type": "display_data"
    }
   ],
   "source": [
    "cluster"
   ]
  },
  {
   "cell_type": "code",
   "execution_count": 9,
   "metadata": {},
   "outputs": [
    {
     "data": {
      "text/plain": [
       "'tcp://10.0.0.5:8786'"
      ]
     },
     "execution_count": 9,
     "metadata": {},
     "output_type": "execute_result"
    },
    {
     "name": "stderr",
     "output_type": "stream",
     "text": [
      "WARNING - Retrying (Retry(total=2, connect=3, read=2, redirect=None, status=None)) after connection broken by 'ReadTimeoutError(\"HTTPSConnectionPool(host='westus2.experiments.azureml.net', port=443): Read timed out. (read timeout=100)\",)': /history/v1.0/subscriptions/6699340d-f248-4d52-8e5c-d0f06713b006/resourceGroups/qtmNpeMlWu2Rg0/providers/Microsoft.MachineLearningServices/workspaces/qtmNpeMlWu2Ws0/experiments/dask-cloudprovider/runs/dask-cloudprovider_1601060210_51330576\n"
     ]
    }
   ],
   "source": [
    "cluster.scheduler_address"
   ]
  },
  {
   "cell_type": "code",
   "execution_count": null,
   "metadata": {},
   "outputs": [],
   "source": [
    "from dask.distributed import Client\n",
    "c = Client(cluster)\n",
    "c"
   ]
  },
  {
   "cell_type": "code",
   "execution_count": null,
   "metadata": {},
   "outputs": [],
   "source": [
    "cluster.close()"
   ]
  },
  {
   "cell_type": "code",
   "execution_count": null,
   "metadata": {},
   "outputs": [],
   "source": [
    "help(AzureMLCluster)"
   ]
  }
 ],
 "metadata": {
  "kernelspec": {
   "display_name": "Python 3.6 - AzureML",
   "language": "python",
   "name": "python3-azureml"
  },
  "language_info": {
   "codemirror_mode": {
    "name": "ipython",
    "version": 3
   },
   "file_extension": ".py",
   "mimetype": "text/x-python",
   "name": "python",
   "nbconvert_exporter": "python",
   "pygments_lexer": "ipython3",
   "version": "3.6.9"
  }
 },
 "nbformat": 4,
 "nbformat_minor": 4
}
